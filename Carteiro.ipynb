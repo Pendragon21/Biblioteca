{
  "nbformat": 4,
  "nbformat_minor": 0,
  "metadata": {
    "colab": {
      "name": "Carteiro.ipynb",
      "provenance": [],
      "collapsed_sections": [],
      "authorship_tag": "ABX9TyPlMVFOVMs98tRY620y7fSd",
      "include_colab_link": true
    },
    "kernelspec": {
      "name": "python3",
      "display_name": "Python 3"
    },
    "language_info": {
      "name": "python"
    }
  },
  "cells": [
    {
      "cell_type": "markdown",
      "metadata": {
        "id": "view-in-github",
        "colab_type": "text"
      },
      "source": [
        "<a href=\"https://colab.research.google.com/github/Pendragon21/Projetos-Python---IA-Machine-Learning--PLN/blob/main/Carteiro.ipynb\" target=\"_parent\"><img src=\"https://colab.research.google.com/assets/colab-badge.svg\" alt=\"Open In Colab\"/></a>"
      ]
    },
    {
      "cell_type": "markdown",
      "metadata": {
        "id": "GYMZm42jCTA7"
      },
      "source": [
        ""
      ]
    },
    {
      "cell_type": "markdown",
      "metadata": {
        "id": "1e-bXMTaCjAI"
      },
      "source": [
        "**Carteiro Virtual - Reconhecimento de números escritos a mão usando o mninst**\n",
        " - A ideia é construir um algoritmo que classifique imagens em escala de cinza de letras de números escritos a mão de tal forma que depois a gente possa desenvolver um programa que lê um digito que uma pessoa escreveu e o programa tem que dizer qual o número que ela escreveu.\n",
        " - O Mnist é um conjunto de dados de imagens, um clássico na comunidade de aprendizagem de máquinas, montado pelo Instituto Nacional de Padrões e Tecnologia (o NIST em MNIST) na década de 1980."
      ]
    },
    {
      "cell_type": "code",
      "metadata": {
        "id": "Ob3CnlmJkRBt"
      },
      "source": [
        "from tensorflow.keras.datasets import mnist\n",
        "import numpy as np ## blib de processamento de grandes, multi-dimensionais arranjos e matrizes"
      ],
      "execution_count": null,
      "outputs": []
    },
    {
      "cell_type": "code",
      "metadata": {
        "id": "w_Yoff6CmLeU"
      },
      "source": [
        "##carregando os modelos\n",
        "(train_images, train_labels), (test_images, test_labels) = mnist.load_data()"
      ],
      "execution_count": null,
      "outputs": []
    },
    {
      "cell_type": "code",
      "metadata": {
        "colab": {
          "base_uri": "https://localhost:8080/"
        },
        "id": "v8lm0d-lJ80l",
        "outputId": "241a5faa-f701-4d0c-97c6-ed81b9bf1fae"
      },
      "source": [
        "#exibindo as imagens\n",
        "train_images[0]"
      ],
      "execution_count": null,
      "outputs": [
        {
          "output_type": "execute_result",
          "data": {
            "text/plain": [
              "array([[  0,   0,   0,   0,   0,   0,   0,   0,   0,   0,   0,   0,   0,\n",
              "          0,   0,   0,   0,   0,   0,   0,   0,   0,   0,   0,   0,   0,\n",
              "          0,   0],\n",
              "       [  0,   0,   0,   0,   0,   0,   0,   0,   0,   0,   0,   0,   0,\n",
              "          0,   0,   0,   0,   0,   0,   0,   0,   0,   0,   0,   0,   0,\n",
              "          0,   0],\n",
              "       [  0,   0,   0,   0,   0,   0,   0,   0,   0,   0,   0,   0,   0,\n",
              "          0,   0,   0,   0,   0,   0,   0,   0,   0,   0,   0,   0,   0,\n",
              "          0,   0],\n",
              "       [  0,   0,   0,   0,   0,   0,   0,   0,   0,   0,   0,   0,   0,\n",
              "          0,   0,   0,   0,   0,   0,   0,   0,   0,   0,   0,   0,   0,\n",
              "          0,   0],\n",
              "       [  0,   0,   0,   0,   0,   0,   0,   0,   0,   0,   0,   0,   0,\n",
              "          0,   0,   0,   0,   0,   0,   0,   0,   0,   0,   0,   0,   0,\n",
              "          0,   0],\n",
              "       [  0,   0,   0,   0,   0,   0,   0,   0,   0,   0,   0,   0,   3,\n",
              "         18,  18,  18, 126, 136, 175,  26, 166, 255, 247, 127,   0,   0,\n",
              "          0,   0],\n",
              "       [  0,   0,   0,   0,   0,   0,   0,   0,  30,  36,  94, 154, 170,\n",
              "        253, 253, 253, 253, 253, 225, 172, 253, 242, 195,  64,   0,   0,\n",
              "          0,   0],\n",
              "       [  0,   0,   0,   0,   0,   0,   0,  49, 238, 253, 253, 253, 253,\n",
              "        253, 253, 253, 253, 251,  93,  82,  82,  56,  39,   0,   0,   0,\n",
              "          0,   0],\n",
              "       [  0,   0,   0,   0,   0,   0,   0,  18, 219, 253, 253, 253, 253,\n",
              "        253, 198, 182, 247, 241,   0,   0,   0,   0,   0,   0,   0,   0,\n",
              "          0,   0],\n",
              "       [  0,   0,   0,   0,   0,   0,   0,   0,  80, 156, 107, 253, 253,\n",
              "        205,  11,   0,  43, 154,   0,   0,   0,   0,   0,   0,   0,   0,\n",
              "          0,   0],\n",
              "       [  0,   0,   0,   0,   0,   0,   0,   0,   0,  14,   1, 154, 253,\n",
              "         90,   0,   0,   0,   0,   0,   0,   0,   0,   0,   0,   0,   0,\n",
              "          0,   0],\n",
              "       [  0,   0,   0,   0,   0,   0,   0,   0,   0,   0,   0, 139, 253,\n",
              "        190,   2,   0,   0,   0,   0,   0,   0,   0,   0,   0,   0,   0,\n",
              "          0,   0],\n",
              "       [  0,   0,   0,   0,   0,   0,   0,   0,   0,   0,   0,  11, 190,\n",
              "        253,  70,   0,   0,   0,   0,   0,   0,   0,   0,   0,   0,   0,\n",
              "          0,   0],\n",
              "       [  0,   0,   0,   0,   0,   0,   0,   0,   0,   0,   0,   0,  35,\n",
              "        241, 225, 160, 108,   1,   0,   0,   0,   0,   0,   0,   0,   0,\n",
              "          0,   0],\n",
              "       [  0,   0,   0,   0,   0,   0,   0,   0,   0,   0,   0,   0,   0,\n",
              "         81, 240, 253, 253, 119,  25,   0,   0,   0,   0,   0,   0,   0,\n",
              "          0,   0],\n",
              "       [  0,   0,   0,   0,   0,   0,   0,   0,   0,   0,   0,   0,   0,\n",
              "          0,  45, 186, 253, 253, 150,  27,   0,   0,   0,   0,   0,   0,\n",
              "          0,   0],\n",
              "       [  0,   0,   0,   0,   0,   0,   0,   0,   0,   0,   0,   0,   0,\n",
              "          0,   0,  16,  93, 252, 253, 187,   0,   0,   0,   0,   0,   0,\n",
              "          0,   0],\n",
              "       [  0,   0,   0,   0,   0,   0,   0,   0,   0,   0,   0,   0,   0,\n",
              "          0,   0,   0,   0, 249, 253, 249,  64,   0,   0,   0,   0,   0,\n",
              "          0,   0],\n",
              "       [  0,   0,   0,   0,   0,   0,   0,   0,   0,   0,   0,   0,   0,\n",
              "          0,  46, 130, 183, 253, 253, 207,   2,   0,   0,   0,   0,   0,\n",
              "          0,   0],\n",
              "       [  0,   0,   0,   0,   0,   0,   0,   0,   0,   0,   0,   0,  39,\n",
              "        148, 229, 253, 253, 253, 250, 182,   0,   0,   0,   0,   0,   0,\n",
              "          0,   0],\n",
              "       [  0,   0,   0,   0,   0,   0,   0,   0,   0,   0,  24, 114, 221,\n",
              "        253, 253, 253, 253, 201,  78,   0,   0,   0,   0,   0,   0,   0,\n",
              "          0,   0],\n",
              "       [  0,   0,   0,   0,   0,   0,   0,   0,  23,  66, 213, 253, 253,\n",
              "        253, 253, 198,  81,   2,   0,   0,   0,   0,   0,   0,   0,   0,\n",
              "          0,   0],\n",
              "       [  0,   0,   0,   0,   0,   0,  18, 171, 219, 253, 253, 253, 253,\n",
              "        195,  80,   9,   0,   0,   0,   0,   0,   0,   0,   0,   0,   0,\n",
              "          0,   0],\n",
              "       [  0,   0,   0,   0,  55, 172, 226, 253, 253, 253, 253, 244, 133,\n",
              "         11,   0,   0,   0,   0,   0,   0,   0,   0,   0,   0,   0,   0,\n",
              "          0,   0],\n",
              "       [  0,   0,   0,   0, 136, 253, 253, 253, 212, 135, 132,  16,   0,\n",
              "          0,   0,   0,   0,   0,   0,   0,   0,   0,   0,   0,   0,   0,\n",
              "          0,   0],\n",
              "       [  0,   0,   0,   0,   0,   0,   0,   0,   0,   0,   0,   0,   0,\n",
              "          0,   0,   0,   0,   0,   0,   0,   0,   0,   0,   0,   0,   0,\n",
              "          0,   0],\n",
              "       [  0,   0,   0,   0,   0,   0,   0,   0,   0,   0,   0,   0,   0,\n",
              "          0,   0,   0,   0,   0,   0,   0,   0,   0,   0,   0,   0,   0,\n",
              "          0,   0],\n",
              "       [  0,   0,   0,   0,   0,   0,   0,   0,   0,   0,   0,   0,   0,\n",
              "          0,   0,   0,   0,   0,   0,   0,   0,   0,   0,   0,   0,   0,\n",
              "          0,   0]], dtype=uint8)"
            ]
          },
          "metadata": {},
          "execution_count": 40
        }
      ]
    },
    {
      "cell_type": "code",
      "metadata": {
        "colab": {
          "base_uri": "https://localhost:8080/",
          "height": 282
        },
        "id": "rI7b50FGKEvK",
        "outputId": "57f9d576-df6d-48fd-d1c9-0955e68d7f42"
      },
      "source": [
        "from matplotlib import pyplot as plt\n",
        "%matplotlib inline\n",
        "plt.imshow(train_images[0], cmap='gray')##selecionando a imagem do dataset\n",
        "plt.show()\n",
        "\n",
        "print(train_labels[0])"
      ],
      "execution_count": null,
      "outputs": [
        {
          "output_type": "display_data",
          "data": {
            "image/png": "[encoded data removed]",
            "text/plain": [
              "<Figure size 432x288 with 1 Axes>"
            ]
          },
          "metadata": {
            "needs_background": "light"
          }
        },
        {
          "output_type": "stream",
          "text": [
            "5\n"
          ],
          "name": "stdout"
        }
      ]
    },
    {
      "cell_type": "code",
      "metadata": {
        "colab": {
          "base_uri": "https://localhost:8080/"
        },
        "id": "t3DxD11NdagS",
        "outputId": "4c4c98af-e74b-486e-86fc-d5a94fbcea90"
      },
      "source": [
        "train_images.shape##tamanho da imagem"
      ],
      "execution_count": null,
      "outputs": [
        {
          "output_type": "execute_result",
          "data": {
            "text/plain": [
              "(60000, 28, 28)"
            ]
          },
          "metadata": {},
          "execution_count": 42
        }
      ]
    },
    {
      "cell_type": "code",
      "metadata": {
        "colab": {
          "base_uri": "https://localhost:8080/"
        },
        "id": "Egl1j3K4drRI",
        "outputId": "572f8e2a-8106-432f-d561-cbb1b25fb468"
      },
      "source": [
        "np.unique(train_labels)##encontra elementos únicos do array, e os retorna de forma aleatória"
      ],
      "execution_count": null,
      "outputs": [
        {
          "output_type": "execute_result",
          "data": {
            "text/plain": [
              "array([0, 1, 2, 3, 4, 5, 6, 7, 8, 9], dtype=uint8)"
            ]
          },
          "metadata": {},
          "execution_count": 43
        }
      ]
    },
    {
      "cell_type": "code",
      "metadata": {
        "colab": {
          "base_uri": "https://localhost:8080/"
        },
        "id": "br6QP_kmd6Tn",
        "outputId": "0baba363-0a88-45ce-a2a5-d871e209dae7"
      },
      "source": [
        "test_images.shape ##tamanho das imagens de teste"
      ],
      "execution_count": null,
      "outputs": [
        {
          "output_type": "execute_result",
          "data": {
            "text/plain": [
              "(10000, 28, 28)"
            ]
          },
          "metadata": {},
          "execution_count": 44
        }
      ]
    },
    {
      "cell_type": "code",
      "metadata": {
        "colab": {
          "base_uri": "https://localhost:8080/"
        },
        "id": "_-Amo5jyei-C",
        "outputId": "adeb660e-4e0f-43d7-a836-f568f580b22c"
      },
      "source": [
        "np.unique(test_labels)"
      ],
      "execution_count": null,
      "outputs": [
        {
          "output_type": "execute_result",
          "data": {
            "text/plain": [
              "array([0, 1, 2, 3, 4, 5, 6, 7, 8, 9], dtype=uint8)"
            ]
          },
          "metadata": {},
          "execution_count": 45
        }
      ]
    },
    {
      "cell_type": "markdown",
      "metadata": {
        "id": "b2jlpM2AeosY"
      },
      "source": [
        "**Flatenning**<br>\n",
        "achatamento das imagens"
      ]
    },
    {
      "cell_type": "code",
      "metadata": {
        "id": "kljZ2hn3etmO"
      },
      "source": [
        "train_images = train_images.reshape((60000, 28 * 28))\n",
        "test_images = test_images.reshape((10000, 28 * 28))"
      ],
      "execution_count": null,
      "outputs": []
    },
    {
      "cell_type": "markdown",
      "metadata": {
        "id": "RSt-wizygrKR"
      },
      "source": [
        "**Normalizando**"
      ]
    },
    {
      "cell_type": "code",
      "metadata": {
        "id": "xzpmXuFLgu1k"
      },
      "source": [
        "train_images = train_images.astype('float32') / 255\n",
        "test_images = test_images.astype('float32') / 255"
      ],
      "execution_count": null,
      "outputs": []
    },
    {
      "cell_type": "markdown",
      "metadata": {
        "id": "IBUTC3Tng7oO"
      },
      "source": [
        "**Categorizando One Hot Encoder**"
      ]
    },
    {
      "cell_type": "code",
      "metadata": {
        "id": "jHddyprqg9cg"
      },
      "source": [
        "from tensorflow.keras.utils import to_categorical\n",
        "train_labels = to_categorical(train_labels)\n",
        "test_labels = to_categorical(test_labels)\n"
      ],
      "execution_count": null,
      "outputs": []
    },
    {
      "cell_type": "markdown",
      "metadata": {
        "id": "MObegfrVhIqV"
      },
      "source": [
        "**Importando Tensorflow e keras**"
      ]
    },
    {
      "cell_type": "code",
      "metadata": {
        "id": "y0Tcu8sbhREp"
      },
      "source": [
        "from tensorflow.keras import models, layers"
      ],
      "execution_count": null,
      "outputs": []
    },
    {
      "cell_type": "markdown",
      "metadata": {
        "id": "9ugKr7_HhU0y"
      },
      "source": [
        "**Criando a rede neural**"
      ]
    },
    {
      "cell_type": "code",
      "metadata": {
        "colab": {
          "base_uri": "https://localhost:8080/"
        },
        "id": "A7rIgRVShZmi",
        "outputId": "20e598fd-56a4-4647-de70-790d5cfea5ee"
      },
      "source": [
        "model = models.Sequential()\n",
        "model.add(layers.Dense(512, activation='tanh', input_shape=(28 * 28,)))\n",
        "model.add(layers.Dense(10, activation='softmax'))##fuhção exponencial normalizada\n",
        "\n",
        "model.summary()"
      ],
      "execution_count": null,
      "outputs": [
        {
          "output_type": "stream",
          "text": [
            "Model: \"sequential_2\"\n",
            "_________________________________________________________________\n",
            "Layer (type)                 Output Shape              Param #   \n",
            "=================================================================\n",
            "dense_4 (Dense)              (None, 512)               401920    \n",
            "_________________________________________________________________\n",
            "dense_5 (Dense)              (None, 10)                5130      \n",
            "=================================================================\n",
            "Total params: 407,050\n",
            "Trainable params: 407,050\n",
            "Non-trainable params: 0\n",
            "_________________________________________________________________\n"
          ],
          "name": "stdout"
        }
      ]
    },
    {
      "cell_type": "markdown",
      "metadata": {
        "id": "GQiZx6rBhgmH"
      },
      "source": [
        "**Criando compilador keras**"
      ]
    },
    {
      "cell_type": "code",
      "metadata": {
        "id": "NykyOu5Ihmlb"
      },
      "source": [
        "model.compile(optimizer='rmsprop',\n",
        "                loss='categorical_crossentropy',\n",
        "                metrics=['accuracy'])"
      ],
      "execution_count": null,
      "outputs": []
    },
    {
      "cell_type": "markdown",
      "metadata": {
        "id": "ZjRwx9nqhzY1"
      },
      "source": [
        "**Treinando a Rede Neural**"
      ]
    },
    {
      "cell_type": "code",
      "metadata": {
        "colab": {
          "base_uri": "https://localhost:8080/"
        },
        "id": "lA7mqIJXh3K_",
        "outputId": "c5484ce9-2795-44c4-a99d-433c42046ba4"
      },
      "source": [
        "model.fit(train_images, train_labels, epochs=100, batch_size=128)"
      ],
      "execution_count": null,
      "outputs": [
        {
          "output_type": "stream",
          "text": [
            "Epoch 1/100\n",
            "469/469 [==============================] - 5s 10ms/step - loss: 0.3374 - accuracy: 0.9007\n",
            "Epoch 2/100\n",
            "469/469 [==============================] - 5s 10ms/step - loss: 0.1756 - accuracy: 0.9491\n",
            "Epoch 3/100\n",
            "469/469 [==============================] - 5s 10ms/step - loss: 0.1165 - accuracy: 0.9660\n",
            "Epoch 4/100\n",
            "469/469 [==============================] - 5s 10ms/step - loss: 0.0851 - accuracy: 0.9747\n",
            "Epoch 5/100\n",
            "469/469 [==============================] - 5s 10ms/step - loss: 0.0656 - accuracy: 0.9804\n",
            "Epoch 6/100\n",
            "469/469 [==============================] - 4s 10ms/step - loss: 0.0516 - accuracy: 0.9845\n",
            "Epoch 7/100\n",
            "469/469 [==============================] - 4s 10ms/step - loss: 0.0399 - accuracy: 0.9880\n",
            "Epoch 8/100\n",
            "469/469 [==============================] - 4s 10ms/step - loss: 0.0322 - accuracy: 0.9904\n",
            "Epoch 9/100\n",
            "469/469 [==============================] - 4s 10ms/step - loss: 0.0254 - accuracy: 0.9928\n",
            "Epoch 10/100\n",
            "469/469 [==============================] - 4s 9ms/step - loss: 0.0201 - accuracy: 0.9946\n",
            "Epoch 11/100\n",
            "469/469 [==============================] - 4s 9ms/step - loss: 0.0158 - accuracy: 0.9959\n",
            "Epoch 12/100\n",
            "469/469 [==============================] - 4s 9ms/step - loss: 0.0123 - accuracy: 0.9971\n",
            "Epoch 13/100\n",
            "469/469 [==============================] - 4s 9ms/step - loss: 0.0100 - accuracy: 0.9974\n",
            "Epoch 14/100\n",
            "469/469 [==============================] - 4s 9ms/step - loss: 0.0076 - accuracy: 0.9984\n",
            "Epoch 15/100\n",
            "469/469 [==============================] - 4s 9ms/step - loss: 0.0058 - accuracy: 0.9987\n",
            "Epoch 16/100\n",
            "469/469 [==============================] - 4s 9ms/step - loss: 0.0047 - accuracy: 0.9990\n",
            "Epoch 17/100\n",
            "469/469 [==============================] - 4s 9ms/step - loss: 0.0035 - accuracy: 0.9991\n",
            "Epoch 18/100\n",
            "469/469 [==============================] - 4s 9ms/step - loss: 0.0028 - accuracy: 0.9994\n",
            "Epoch 19/100\n",
            "469/469 [==============================] - 4s 9ms/step - loss: 0.0020 - accuracy: 0.9996\n",
            "Epoch 20/100\n",
            "469/469 [==============================] - 4s 9ms/step - loss: 0.0015 - accuracy: 0.9998\n",
            "Epoch 21/100\n",
            "469/469 [==============================] - 4s 9ms/step - loss: 0.0014 - accuracy: 0.9996\n",
            "Epoch 22/100\n",
            "469/469 [==============================] - 4s 9ms/step - loss: 9.0001e-04 - accuracy: 0.9998\n",
            "Epoch 23/100\n",
            "469/469 [==============================] - 4s 9ms/step - loss: 7.6672e-04 - accuracy: 0.9998\n",
            "Epoch 24/100\n",
            "469/469 [==============================] - 5s 10ms/step - loss: 5.7245e-04 - accuracy: 0.9999\n",
            "Epoch 25/100\n",
            "469/469 [==============================] - 4s 10ms/step - loss: 4.6631e-04 - accuracy: 0.9999\n",
            "Epoch 26/100\n",
            "469/469 [==============================] - 5s 10ms/step - loss: 3.8015e-04 - accuracy: 0.9999\n",
            "Epoch 27/100\n",
            "469/469 [==============================] - 4s 9ms/step - loss: 2.9227e-04 - accuracy: 0.9999\n",
            "Epoch 28/100\n",
            "469/469 [==============================] - 5s 10ms/step - loss: 1.9878e-04 - accuracy: 1.0000\n",
            "Epoch 29/100\n",
            "469/469 [==============================] - 4s 10ms/step - loss: 1.5964e-04 - accuracy: 1.0000\n",
            "Epoch 30/100\n",
            "469/469 [==============================] - 4s 10ms/step - loss: 7.9450e-05 - accuracy: 1.0000\n",
            "Epoch 31/100\n",
            "469/469 [==============================] - 4s 10ms/step - loss: 1.4434e-04 - accuracy: 0.9999\n",
            "Epoch 32/100\n",
            "469/469 [==============================] - 4s 9ms/step - loss: 1.7747e-04 - accuracy: 1.0000\n",
            "Epoch 33/100\n",
            "469/469 [==============================] - 4s 10ms/step - loss: 1.1101e-04 - accuracy: 1.0000\n",
            "Epoch 34/100\n",
            "469/469 [==============================] - 5s 10ms/step - loss: 3.9109e-05 - accuracy: 1.0000\n",
            "Epoch 35/100\n",
            "469/469 [==============================] - 4s 9ms/step - loss: 2.1175e-05 - accuracy: 1.0000\n",
            "Epoch 36/100\n",
            "469/469 [==============================] - 5s 10ms/step - loss: 5.4271e-05 - accuracy: 1.0000\n",
            "Epoch 37/100\n",
            "469/469 [==============================] - 6s 12ms/step - loss: 2.0150e-05 - accuracy: 1.0000\n",
            "Epoch 38/100\n",
            "469/469 [==============================] - 7s 14ms/step - loss: 9.2978e-06 - accuracy: 1.0000\n",
            "Epoch 39/100\n",
            "469/469 [==============================] - 7s 16ms/step - loss: 8.7674e-06 - accuracy: 1.0000\n",
            "Epoch 40/100\n",
            "469/469 [==============================] - 8s 16ms/step - loss: 2.7679e-06 - accuracy: 1.0000\n",
            "Epoch 41/100\n",
            "469/469 [==============================] - 7s 15ms/step - loss: 1.5467e-06 - accuracy: 1.0000\n",
            "Epoch 42/100\n",
            "469/469 [==============================] - 8s 16ms/step - loss: 4.4830e-07 - accuracy: 1.0000\n",
            "Epoch 43/100\n",
            "469/469 [==============================] - 7s 15ms/step - loss: 7.7909e-06 - accuracy: 1.0000\n",
            "Epoch 44/100\n",
            "469/469 [==============================] - 7s 15ms/step - loss: 5.1780e-07 - accuracy: 1.0000\n",
            "Epoch 45/100\n",
            "469/469 [==============================] - 7s 15ms/step - loss: 1.0927e-07 - accuracy: 1.0000\n",
            "Epoch 46/100\n",
            "469/469 [==============================] - 7s 16ms/step - loss: 7.1805e-08 - accuracy: 1.0000\n",
            "Epoch 47/100\n",
            "469/469 [==============================] - 8s 17ms/step - loss: 6.0149e-08 - accuracy: 1.0000\n",
            "Epoch 48/100\n",
            "469/469 [==============================] - 8s 18ms/step - loss: 5.0608e-08 - accuracy: 1.0000\n",
            "Epoch 49/100\n",
            "469/469 [==============================] - 9s 20ms/step - loss: 4.4781e-08 - accuracy: 1.0000\n",
            "Epoch 50/100\n",
            "469/469 [==============================] - 9s 20ms/step - loss: 4.1201e-08 - accuracy: 1.0000\n",
            "Epoch 51/100\n",
            "469/469 [==============================] - 9s 19ms/step - loss: 3.7368e-08 - accuracy: 1.0000\n",
            "Epoch 52/100\n",
            "469/469 [==============================] - 9s 19ms/step - loss: 3.4799e-08 - accuracy: 1.0000\n",
            "Epoch 53/100\n",
            "469/469 [==============================] - 9s 19ms/step - loss: 3.2153e-08 - accuracy: 1.0000\n",
            "Epoch 54/100\n",
            "469/469 [==============================] - 9s 19ms/step - loss: 2.9995e-08 - accuracy: 1.0000\n",
            "Epoch 55/100\n",
            "469/469 [==============================] - 9s 19ms/step - loss: 2.8213e-08 - accuracy: 1.0000\n",
            "Epoch 56/100\n",
            "469/469 [==============================] - 9s 19ms/step - loss: 2.6661e-08 - accuracy: 1.0000\n",
            "Epoch 57/100\n",
            "469/469 [==============================] - 9s 19ms/step - loss: 2.5100e-08 - accuracy: 1.0000\n",
            "Epoch 58/100\n",
            "469/469 [==============================] - 9s 19ms/step - loss: 2.3892e-08 - accuracy: 1.0000\n",
            "Epoch 59/100\n",
            "469/469 [==============================] - 9s 19ms/step - loss: 2.2713e-08 - accuracy: 1.0000\n",
            "Epoch 60/100\n",
            "469/469 [==============================] - 9s 18ms/step - loss: 2.1688e-08 - accuracy: 1.0000\n",
            "Epoch 61/100\n",
            "469/469 [==============================] - 8s 17ms/step - loss: 2.0639e-08 - accuracy: 1.0000\n",
            "Epoch 62/100\n",
            "469/469 [==============================] - 8s 18ms/step - loss: 1.9888e-08 - accuracy: 1.0000\n",
            "Epoch 63/100\n",
            "469/469 [==============================] - 8s 17ms/step - loss: 1.8994e-08 - accuracy: 1.0000\n",
            "Epoch 64/100\n",
            "469/469 [==============================] - 8s 17ms/step - loss: 1.8307e-08 - accuracy: 1.0000\n",
            "Epoch 65/100\n",
            "469/469 [==============================] - 9s 18ms/step - loss: 1.7687e-08 - accuracy: 1.0000\n",
            "Epoch 66/100\n",
            "469/469 [==============================] - 9s 18ms/step - loss: 1.6971e-08 - accuracy: 1.0000\n",
            "Epoch 67/100\n",
            "469/469 [==============================] - 9s 19ms/step - loss: 1.6475e-08 - accuracy: 1.0000\n",
            "Epoch 68/100\n",
            "469/469 [==============================] - 9s 20ms/step - loss: 1.5851e-08 - accuracy: 1.0000\n",
            "Epoch 69/100\n",
            "469/469 [==============================] - 9s 20ms/step - loss: 1.5362e-08 - accuracy: 1.0000\n",
            "Epoch 70/100\n",
            "469/469 [==============================] - 10s 21ms/step - loss: 1.4899e-08 - accuracy: 1.0000\n",
            "Epoch 71/100\n",
            "469/469 [==============================] - 10s 20ms/step - loss: 1.4406e-08 - accuracy: 1.0000\n",
            "Epoch 72/100\n",
            "469/469 [==============================] - 9s 19ms/step - loss: 1.3983e-08 - accuracy: 1.0000\n",
            "Epoch 73/100\n",
            "469/469 [==============================] - 9s 20ms/step - loss: 1.3592e-08 - accuracy: 1.0000\n",
            "Epoch 74/100\n",
            "469/469 [==============================] - 9s 19ms/step - loss: 1.3212e-08 - accuracy: 1.0000\n",
            "Epoch 75/100\n",
            "469/469 [==============================] - 9s 19ms/step - loss: 1.2932e-08 - accuracy: 1.0000\n",
            "Epoch 76/100\n",
            "469/469 [==============================] - 9s 18ms/step - loss: 1.2503e-08 - accuracy: 1.0000\n",
            "Epoch 77/100\n",
            "469/469 [==============================] - 9s 20ms/step - loss: 1.2271e-08 - accuracy: 1.0000\n",
            "Epoch 78/100\n",
            "469/469 [==============================] - 9s 19ms/step - loss: 1.1977e-08 - accuracy: 1.0000\n",
            "Epoch 79/100\n",
            "469/469 [==============================] - 9s 19ms/step - loss: 1.1679e-08 - accuracy: 1.0000\n",
            "Epoch 80/100\n",
            "469/469 [==============================] - 10s 20ms/step - loss: 1.1402e-08 - accuracy: 1.0000\n",
            "Epoch 81/100\n",
            "469/469 [==============================] - 9s 20ms/step - loss: 1.1106e-08 - accuracy: 1.0000\n",
            "Epoch 82/100\n",
            "469/469 [==============================] - 9s 20ms/step - loss: 1.0836e-08 - accuracy: 1.0000\n",
            "Epoch 83/100\n",
            "469/469 [==============================] - 10s 21ms/step - loss: 1.0620e-08 - accuracy: 1.0000\n",
            "Epoch 84/100\n",
            "469/469 [==============================] - 9s 20ms/step - loss: 1.0326e-08 - accuracy: 1.0000\n",
            "Epoch 85/100\n",
            "469/469 [==============================] - 9s 20ms/step - loss: 1.0159e-08 - accuracy: 1.0000\n",
            "Epoch 86/100\n",
            "469/469 [==============================] - 9s 20ms/step - loss: 9.9500e-09 - accuracy: 1.0000\n",
            "Epoch 87/100\n",
            "469/469 [==============================] - 9s 19ms/step - loss: 9.6997e-09 - accuracy: 1.0000\n",
            "Epoch 88/100\n",
            "469/469 [==============================] - 9s 19ms/step - loss: 9.6460e-09 - accuracy: 1.0000\n",
            "Epoch 89/100\n",
            "469/469 [==============================] - 9s 19ms/step - loss: 9.3679e-09 - accuracy: 1.0000\n",
            "Epoch 90/100\n",
            "469/469 [==============================] - 9s 18ms/step - loss: 9.2387e-09 - accuracy: 1.0000\n",
            "Epoch 91/100\n",
            "469/469 [==============================] - 9s 18ms/step - loss: 9.0599e-09 - accuracy: 1.0000\n",
            "Epoch 92/100\n",
            "469/469 [==============================] - 9s 18ms/step - loss: 8.8970e-09 - accuracy: 1.0000\n",
            "Epoch 93/100\n",
            "469/469 [==============================] - 9s 20ms/step - loss: 8.7341e-09 - accuracy: 1.0000\n",
            "Epoch 94/100\n",
            "469/469 [==============================] - 9s 19ms/step - loss: 8.5990e-09 - accuracy: 1.0000\n",
            "Epoch 95/100\n",
            "469/469 [==============================] - 9s 18ms/step - loss: 8.5254e-09 - accuracy: 1.0000\n",
            "Epoch 96/100\n",
            "469/469 [==============================] - 9s 20ms/step - loss: 8.3248e-09 - accuracy: 1.0000\n",
            "Epoch 97/100\n",
            "469/469 [==============================] - 9s 19ms/step - loss: 8.2135e-09 - accuracy: 1.0000\n",
            "Epoch 98/100\n",
            "469/469 [==============================] - 9s 19ms/step - loss: 8.0645e-09 - accuracy: 1.0000\n",
            "Epoch 99/100\n",
            "469/469 [==============================] - 9s 19ms/step - loss: 7.8917e-09 - accuracy: 1.0000\n",
            "Epoch 100/100\n",
            "469/469 [==============================] - 9s 20ms/step - loss: 7.8162e-09 - accuracy: 1.0000\n"
          ],
          "name": "stdout"
        },
        {
          "output_type": "execute_result",
          "data": {
            "text/plain": [
              "<keras.callbacks.History at 0x7f0c7f6d6fd0>"
            ]
          },
          "metadata": {},
          "execution_count": 52
        }
      ]
    },
    {
      "cell_type": "markdown",
      "metadata": {
        "id": "7ATlSsFlkGXm"
      },
      "source": [
        "**VERIFICANDO A ACURÁCIA DA REDE**"
      ]
    },
    {
      "cell_type": "code",
      "metadata": {
        "colab": {
          "base_uri": "https://localhost:8080/"
        },
        "id": "E3BQmB_0kIRV",
        "outputId": "19cc3a7c-7d01-44ba-a943-a191b4d0620e"
      },
      "source": [
        "test_loss, test_acc = model.evaluate(test_images, test_labels)\n",
        "print('test_acc:', test_acc)"
      ],
      "execution_count": null,
      "outputs": [
        {
          "output_type": "stream",
          "text": [
            "313/313 [==============================] - 2s 7ms/step - loss: 0.1293 - accuracy: 0.9835\n",
            "test_acc: 0.9835000038146973\n"
          ],
          "name": "stdout"
        }
      ]
    },
    {
      "cell_type": "markdown",
      "metadata": {
        "id": "Y1EXZXEAkPoV"
      },
      "source": [
        "**Salvando o modelo**"
      ]
    },
    {
      "cell_type": "code",
      "metadata": {
        "id": "ztShGxwqkSA2"
      },
      "source": [
        "model.save(\"Carteiro.h5\")"
      ],
      "execution_count": null,
      "outputs": []
    }
  ]
}