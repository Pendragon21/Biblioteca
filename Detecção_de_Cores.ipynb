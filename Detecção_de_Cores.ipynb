{
  "nbformat": 4,
  "nbformat_minor": 0,
  "metadata": {
    "colab": {
      "name": "Detecção de Cores.ipynb",
      "provenance": [],
      "authorship_tag": "ABX9TyMQ2xajEiaTpW12bK3SZH0z",
      "include_colab_link": true
    },
    "kernelspec": {
      "name": "python3",
      "display_name": "Python 3"
    },
    "language_info": {
      "name": "python"
    }
  },
  "cells": [
    {
      "cell_type": "markdown",
      "metadata": {
        "id": "view-in-github",
        "colab_type": "text"
      },
      "source": [
        "<a href=\"https://colab.research.google.com/github/Pendragon21/Projetos-Python---IA-Machine-Learning--PLN/blob/main/Detec%C3%A7%C3%A3o_de_Cores.ipynb\" target=\"_parent\"><img src=\"https://colab.research.google.com/assets/colab-badge.svg\" alt=\"Open In Colab\"/></a>"
      ]
    },
    {
      "cell_type": "code",
      "metadata": {
        "id": "ot4dnG1zWok6"
      },
      "source": [
        "import numpy as np\n",
        "import imutils\n",
        "import cv2"
      ],
      "execution_count": null,
      "outputs": []
    },
    {
      "cell_type": "markdown",
      "metadata": {
        "id": "9T2lg9xnYE91"
      },
      "source": [
        "definindo os intervalos de cores"
      ]
    },
    {
      "cell_type": "code",
      "metadata": {
        "colab": {
          "base_uri": "https://localhost:8080/",
          "height": 231
        },
        "id": "C__zwdYHYDLJ",
        "outputId": "287f7eec-8105-4a84-8af7-3a8d37b21151"
      },
      "source": [
        "video_capture = cv2.VideoCapture(0)\n",
        "\n",
        "while True:\n",
        "    _, frame = video_capture.read()\n",
        "    hsv_frame = cv2.cvtColor(frame, cv2.COLOR_BGR2HSV)\n",
        "\n",
        "\t# Blue \n",
        "    low_blue = np.array([94, 80, 2])\n",
        "    high_blue = np.array([126, 255, 255])\n",
        "    blue_mask = cv2.inRange(hsv_frame, low_blue, high_blue)\n",
        "    blue = cv2.bitwise_and(frame, frame, mask=blue_mask)\n",
        "\n",
        "    # all colorws excpt white\n",
        "    low = np.array([0, 65, 0])\n",
        "    high = np.array([255, 255, 255])\n",
        "    mask = cv2.inRange(hsv_frame, low, high)\n",
        "    result = cv2.bitwise_and(frame, frame, mask=mask)\n",
        "\n",
        "    cv2.imshow(\"Frame\", frame)\n",
        "    cv2.imshow(\"Blue\", blue)\n",
        "    cv2.imshow(\"Result\", result)\n",
        "\n",
        "    #Sair do programa\n",
        "    if cv2.waitKey(1) & 0xFF == ord('q'):\n",
        "    \tbreak\n",
        "        \n",
        "video_capture.release()\n",
        "cv2.destroyAllWindows()"
      ],
      "execution_count": null,
      "outputs": [
        {
          "output_type": "error",
          "ename": "error",
          "evalue": "ignored",
          "traceback": [
            "\u001b[0;31m---------------------------------------------------------------------------\u001b[0m",
            "\u001b[0;31merror\u001b[0m                                     Traceback (most recent call last)",
            "\u001b[0;32m<ipython-input-12-09f3893b3455>\u001b[0m in \u001b[0;36m<module>\u001b[0;34m()\u001b[0m\n\u001b[1;32m      3\u001b[0m \u001b[0;32mwhile\u001b[0m \u001b[0;32mTrue\u001b[0m\u001b[0;34m:\u001b[0m\u001b[0;34m\u001b[0m\u001b[0;34m\u001b[0m\u001b[0m\n\u001b[1;32m      4\u001b[0m     \u001b[0m_\u001b[0m\u001b[0;34m,\u001b[0m \u001b[0mframe\u001b[0m \u001b[0;34m=\u001b[0m \u001b[0mvideo_capture\u001b[0m\u001b[0;34m.\u001b[0m\u001b[0mread\u001b[0m\u001b[0;34m(\u001b[0m\u001b[0;34m)\u001b[0m\u001b[0;34m\u001b[0m\u001b[0;34m\u001b[0m\u001b[0m\n\u001b[0;32m----> 5\u001b[0;31m     \u001b[0mhsv_frame\u001b[0m \u001b[0;34m=\u001b[0m \u001b[0mcv2\u001b[0m\u001b[0;34m.\u001b[0m\u001b[0mcvtColor\u001b[0m\u001b[0;34m(\u001b[0m\u001b[0mframe\u001b[0m\u001b[0;34m,\u001b[0m \u001b[0mcv2\u001b[0m\u001b[0;34m.\u001b[0m\u001b[0mCOLOR_BGR2HSV\u001b[0m\u001b[0;34m)\u001b[0m\u001b[0;34m\u001b[0m\u001b[0;34m\u001b[0m\u001b[0m\n\u001b[0m\u001b[1;32m      6\u001b[0m \u001b[0;34m\u001b[0m\u001b[0m\n\u001b[1;32m      7\u001b[0m         \u001b[0;31m# Blue\u001b[0m\u001b[0;34m\u001b[0m\u001b[0;34m\u001b[0m\u001b[0;34m\u001b[0m\u001b[0m\n",
            "\u001b[0;31merror\u001b[0m: OpenCV(4.1.2) /io/opencv/modules/imgproc/src/color.cpp:182: error: (-215:Assertion failed) !_src.empty() in function 'cvtColor'\n"
          ]
        }
      ]
    },
    {
      "cell_type": "markdown",
      "metadata": {
        "id": "P-d-JmQ6YXFE"
      },
      "source": [
        "definindo a captura de camêra"
      ]
    }
  ]
}